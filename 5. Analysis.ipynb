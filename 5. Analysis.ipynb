{
 "cells": [
  {
   "cell_type": "markdown",
   "id": "06e9ac54-678d-4450-92e5-38fdd4630eaa",
   "metadata": {},
   "source": [
    "<img align=\"left\" width=\"200\" src=\"./img/northwestern.png\">"
   ]
  },
  {
   "cell_type": "markdown",
   "id": "c61fd192-542c-4d20-a27e-de09164005dd",
   "metadata": {},
   "source": [
    "# 5. Analysis"
   ]
  },
  {
   "cell_type": "markdown",
   "id": "63f592a4-a8e9-44f7-b1cc-87871de210c0",
   "metadata": {},
   "source": [
    "## Telling a story with data"
   ]
  },
  {
   "cell_type": "markdown",
   "id": "34b6547b-fb1e-45cd-be48-7a734e3ed326",
   "metadata": {},
   "source": [
    "There are thousands of entities listed in the report for the Named Entity Recognizer. Data includes names, dates, money, and locations. With the location data available it is possible to \"map\" the locations mentioned in the Northwestern Alumni News."
   ]
  },
  {
   "cell_type": "markdown",
   "id": "5ceb31c5-4215-40ef-8612-edaafa4e3d66",
   "metadata": {},
   "source": [
    "Pandas is a tool that allows for working with csv tables. Since the Named Entity Recognizer is already a table, Pandas is a great tool to use for this data.\n"
   ]
  },
  {
   "cell_type": "markdown",
   "id": "83baaeaf-febe-4a23-81f0-6f41076ddd0f",
   "metadata": {},
   "source": [
    "First, I downloaded the entities file from the HTRC and added it to a folder in this directory. I called this folder data and the file \"entities.csv\""
   ]
  },
  {
   "cell_type": "code",
   "execution_count": 1,
   "id": "e57be89b-1139-4b7d-8048-7a54798ae865",
   "metadata": {},
   "outputs": [
    {
     "data": {
      "text/html": [
       "<div>\n",
       "<style scoped>\n",
       "    .dataframe tbody tr th:only-of-type {\n",
       "        vertical-align: middle;\n",
       "    }\n",
       "\n",
       "    .dataframe tbody tr th {\n",
       "        vertical-align: top;\n",
       "    }\n",
       "\n",
       "    .dataframe thead th {\n",
       "        text-align: right;\n",
       "    }\n",
       "</style>\n",
       "<table border=\"1\" class=\"dataframe\">\n",
       "  <thead>\n",
       "    <tr style=\"text-align: right;\">\n",
       "      <th></th>\n",
       "      <th>vol_id</th>\n",
       "      <th>page_seq</th>\n",
       "      <th>entity</th>\n",
       "      <th>type</th>\n",
       "    </tr>\n",
       "  </thead>\n",
       "  <tbody>\n",
       "    <tr>\n",
       "      <th>0</th>\n",
       "      <td>ien.35556027642412</td>\n",
       "      <td>2</td>\n",
       "      <td>EVANSTON ILLINOIS</td>\n",
       "      <td>LOCATION</td>\n",
       "    </tr>\n",
       "    <tr>\n",
       "      <th>1</th>\n",
       "      <td>ien.35556027642412</td>\n",
       "      <td>7</td>\n",
       "      <td>Dental School</td>\n",
       "      <td>ORGANIZATION</td>\n",
       "    </tr>\n",
       "    <tr>\n",
       "      <th>2</th>\n",
       "      <td>ien.35556027642412</td>\n",
       "      <td>7</td>\n",
       "      <td>Northwestern</td>\n",
       "      <td>LOCATION</td>\n",
       "    </tr>\n",
       "    <tr>\n",
       "      <th>3</th>\n",
       "      <td>ien.35556027642412</td>\n",
       "      <td>7</td>\n",
       "      <td>October 15, 1913</td>\n",
       "      <td>DATE</td>\n",
       "    </tr>\n",
       "    <tr>\n",
       "      <th>4</th>\n",
       "      <td>ien.35556027642412</td>\n",
       "      <td>7</td>\n",
       "      <td>University</td>\n",
       "      <td>ORGANIZATION</td>\n",
       "    </tr>\n",
       "    <tr>\n",
       "      <th>5</th>\n",
       "      <td>ien.35556027642412</td>\n",
       "      <td>7</td>\n",
       "      <td>College of Liberal Arts</td>\n",
       "      <td>ORGANIZATION</td>\n",
       "    </tr>\n",
       "    <tr>\n",
       "      <th>6</th>\n",
       "      <td>ien.35556027642412</td>\n",
       "      <td>7</td>\n",
       "      <td>University</td>\n",
       "      <td>ORGANIZATION</td>\n",
       "    </tr>\n",
       "    <tr>\n",
       "      <th>7</th>\n",
       "      <td>ien.35556027642412</td>\n",
       "      <td>7</td>\n",
       "      <td>Lake Forest</td>\n",
       "      <td>LOCATION</td>\n",
       "    </tr>\n",
       "    <tr>\n",
       "      <th>8</th>\n",
       "      <td>ien.35556027642412</td>\n",
       "      <td>7</td>\n",
       "      <td>October 15, 1914</td>\n",
       "      <td>DATE</td>\n",
       "    </tr>\n",
       "    <tr>\n",
       "      <th>9</th>\n",
       "      <td>ien.35556027642412</td>\n",
       "      <td>7</td>\n",
       "      <td>University</td>\n",
       "      <td>ORGANIZATION</td>\n",
       "    </tr>\n",
       "  </tbody>\n",
       "</table>\n",
       "</div>"
      ],
      "text/plain": [
       "               vol_id  page_seq                   entity          type\n",
       "0  ien.35556027642412         2        EVANSTON ILLINOIS      LOCATION\n",
       "1  ien.35556027642412         7            Dental School  ORGANIZATION\n",
       "2  ien.35556027642412         7             Northwestern      LOCATION\n",
       "3  ien.35556027642412         7         October 15, 1913          DATE\n",
       "4  ien.35556027642412         7               University  ORGANIZATION\n",
       "5  ien.35556027642412         7  College of Liberal Arts  ORGANIZATION\n",
       "6  ien.35556027642412         7               University  ORGANIZATION\n",
       "7  ien.35556027642412         7              Lake Forest      LOCATION\n",
       "8  ien.35556027642412         7         October 15, 1914          DATE\n",
       "9  ien.35556027642412         7               University  ORGANIZATION"
      ]
     },
     "execution_count": 1,
     "metadata": {},
     "output_type": "execute_result"
    }
   ],
   "source": [
    "#This code imports pandas and creates a dataframe based on the csv of entities. A dataframe is a Pandas table.\n",
    "import pandas as pd\n",
    "df = pd.read_csv('./data/entities.csv')\n",
    "# This displays the first ten lines only\n",
    "df.head(10)"
   ]
  },
  {
   "cell_type": "code",
   "execution_count": 2,
   "id": "cda942d5-e171-40f0-92e3-47bfd1c1bdea",
   "metadata": {},
   "outputs": [
    {
     "data": {
      "text/plain": [
       "164.8328783494422"
      ]
     },
     "execution_count": 2,
     "metadata": {},
     "output_type": "execute_result"
    }
   ],
   "source": [
    "#There are so many Pandas tools. Pandas is very worthwhile to learn. This function shows the mean value for the page_seq column, for example:\n",
    "df['page_seq'].mean()"
   ]
  },
  {
   "cell_type": "markdown",
   "id": "b168658c-f821-4dc1-b437-0e331670883a",
   "metadata": {},
   "source": [
    "Not terribly useful data right now, but it is great to explore the different functions offered by Pandas."
   ]
  },
  {
   "cell_type": "code",
   "execution_count": 3,
   "id": "5e645d90-6fc1-41a3-bfd4-ecb5b551d784",
   "metadata": {},
   "outputs": [
    {
     "data": {
      "text/html": [
       "<div>\n",
       "<style scoped>\n",
       "    .dataframe tbody tr th:only-of-type {\n",
       "        vertical-align: middle;\n",
       "    }\n",
       "\n",
       "    .dataframe tbody tr th {\n",
       "        vertical-align: top;\n",
       "    }\n",
       "\n",
       "    .dataframe thead th {\n",
       "        text-align: right;\n",
       "    }\n",
       "</style>\n",
       "<table border=\"1\" class=\"dataframe\">\n",
       "  <thead>\n",
       "    <tr style=\"text-align: right;\">\n",
       "      <th></th>\n",
       "      <th>vol_id</th>\n",
       "      <th>page_seq</th>\n",
       "      <th>entity</th>\n",
       "      <th>type</th>\n",
       "    </tr>\n",
       "  </thead>\n",
       "  <tbody>\n",
       "    <tr>\n",
       "      <th>0</th>\n",
       "      <td>ien.35556027642412</td>\n",
       "      <td>2</td>\n",
       "      <td>evanston illinois</td>\n",
       "      <td>LOCATION</td>\n",
       "    </tr>\n",
       "    <tr>\n",
       "      <th>1</th>\n",
       "      <td>ien.35556027642412</td>\n",
       "      <td>7</td>\n",
       "      <td>dental school</td>\n",
       "      <td>ORGANIZATION</td>\n",
       "    </tr>\n",
       "    <tr>\n",
       "      <th>2</th>\n",
       "      <td>ien.35556027642412</td>\n",
       "      <td>7</td>\n",
       "      <td>northwestern</td>\n",
       "      <td>LOCATION</td>\n",
       "    </tr>\n",
       "    <tr>\n",
       "      <th>3</th>\n",
       "      <td>ien.35556027642412</td>\n",
       "      <td>7</td>\n",
       "      <td>october 15, 1913</td>\n",
       "      <td>DATE</td>\n",
       "    </tr>\n",
       "    <tr>\n",
       "      <th>4</th>\n",
       "      <td>ien.35556027642412</td>\n",
       "      <td>7</td>\n",
       "      <td>university</td>\n",
       "      <td>ORGANIZATION</td>\n",
       "    </tr>\n",
       "    <tr>\n",
       "      <th>...</th>\n",
       "      <td>...</td>\n",
       "      <td>...</td>\n",
       "      <td>...</td>\n",
       "      <td>...</td>\n",
       "    </tr>\n",
       "    <tr>\n",
       "      <th>1233372</th>\n",
       "      <td>ien.35556027642651</td>\n",
       "      <td>230</td>\n",
       "      <td>his</td>\n",
       "      <td>PERSON</td>\n",
       "    </tr>\n",
       "    <tr>\n",
       "      <th>1233373</th>\n",
       "      <td>ien.35556027642651</td>\n",
       "      <td>230</td>\n",
       "      <td>her</td>\n",
       "      <td>PERSON</td>\n",
       "    </tr>\n",
       "    <tr>\n",
       "      <th>1233374</th>\n",
       "      <td>ien.35556027642651</td>\n",
       "      <td>230</td>\n",
       "      <td>american osteo¬ pathic hospital association</td>\n",
       "      <td>ORGANIZATION</td>\n",
       "    </tr>\n",
       "    <tr>\n",
       "      <th>1233375</th>\n",
       "      <td>ien.35556027642651</td>\n",
       "      <td>230</td>\n",
       "      <td>1969</td>\n",
       "      <td>DATE</td>\n",
       "    </tr>\n",
       "    <tr>\n",
       "      <th>1233376</th>\n",
       "      <td>ien.35556027642651</td>\n",
       "      <td>230</td>\n",
       "      <td>chicago mercantile exchange</td>\n",
       "      <td>ORGANIZATION</td>\n",
       "    </tr>\n",
       "  </tbody>\n",
       "</table>\n",
       "<p>1233377 rows × 4 columns</p>\n",
       "</div>"
      ],
      "text/plain": [
       "                     vol_id  page_seq  \\\n",
       "0        ien.35556027642412         2   \n",
       "1        ien.35556027642412         7   \n",
       "2        ien.35556027642412         7   \n",
       "3        ien.35556027642412         7   \n",
       "4        ien.35556027642412         7   \n",
       "...                     ...       ...   \n",
       "1233372  ien.35556027642651       230   \n",
       "1233373  ien.35556027642651       230   \n",
       "1233374  ien.35556027642651       230   \n",
       "1233375  ien.35556027642651       230   \n",
       "1233376  ien.35556027642651       230   \n",
       "\n",
       "                                              entity          type  \n",
       "0                                  evanston illinois      LOCATION  \n",
       "1                                      dental school  ORGANIZATION  \n",
       "2                                       northwestern      LOCATION  \n",
       "3                                   october 15, 1913          DATE  \n",
       "4                                         university  ORGANIZATION  \n",
       "...                                              ...           ...  \n",
       "1233372                                          his        PERSON  \n",
       "1233373                                          her        PERSON  \n",
       "1233374  american osteo¬ pathic hospital association  ORGANIZATION  \n",
       "1233375                                         1969          DATE  \n",
       "1233376                  chicago mercantile exchange  ORGANIZATION  \n",
       "\n",
       "[1233377 rows x 4 columns]"
      ]
     },
     "execution_count": 3,
     "metadata": {},
     "output_type": "execute_result"
    }
   ],
   "source": [
    "# I am interested in doing something with the location data. I want to normalize the data a little before it is counted. I lowercase the entities here:\n",
    "df['entity'] = df['entity'].str.lower()\n",
    "df"
   ]
  },
  {
   "cell_type": "code",
   "execution_count": 4,
   "id": "90366151-f536-4756-b6e3-bb3d18111ff8",
   "metadata": {},
   "outputs": [
    {
     "data": {
      "text/html": [
       "<div>\n",
       "<style scoped>\n",
       "    .dataframe tbody tr th:only-of-type {\n",
       "        vertical-align: middle;\n",
       "    }\n",
       "\n",
       "    .dataframe tbody tr th {\n",
       "        vertical-align: top;\n",
       "    }\n",
       "\n",
       "    .dataframe thead th {\n",
       "        text-align: right;\n",
       "    }\n",
       "</style>\n",
       "<table border=\"1\" class=\"dataframe\">\n",
       "  <thead>\n",
       "    <tr style=\"text-align: right;\">\n",
       "      <th></th>\n",
       "      <th>vol_id</th>\n",
       "      <th>page_seq</th>\n",
       "      <th>entity</th>\n",
       "      <th>type</th>\n",
       "    </tr>\n",
       "  </thead>\n",
       "  <tbody>\n",
       "    <tr>\n",
       "      <th>0</th>\n",
       "      <td>ien.35556027642412</td>\n",
       "      <td>2</td>\n",
       "      <td>evanston illinois</td>\n",
       "      <td>LOCATION</td>\n",
       "    </tr>\n",
       "    <tr>\n",
       "      <th>2</th>\n",
       "      <td>ien.35556027642412</td>\n",
       "      <td>7</td>\n",
       "      <td>northwestern</td>\n",
       "      <td>LOCATION</td>\n",
       "    </tr>\n",
       "    <tr>\n",
       "      <th>7</th>\n",
       "      <td>ien.35556027642412</td>\n",
       "      <td>7</td>\n",
       "      <td>lake forest</td>\n",
       "      <td>LOCATION</td>\n",
       "    </tr>\n",
       "    <tr>\n",
       "      <th>14</th>\n",
       "      <td>ien.35556027642412</td>\n",
       "      <td>7</td>\n",
       "      <td>lake michigan</td>\n",
       "      <td>LOCATION</td>\n",
       "    </tr>\n",
       "    <tr>\n",
       "      <th>26</th>\n",
       "      <td>ien.35556027642412</td>\n",
       "      <td>8</td>\n",
       "      <td>virginia</td>\n",
       "      <td>LOCATION</td>\n",
       "    </tr>\n",
       "    <tr>\n",
       "      <th>...</th>\n",
       "      <td>...</td>\n",
       "      <td>...</td>\n",
       "      <td>...</td>\n",
       "      <td>...</td>\n",
       "    </tr>\n",
       "    <tr>\n",
       "      <th>457</th>\n",
       "      <td>ien.35556027642412</td>\n",
       "      <td>25</td>\n",
       "      <td>evanston</td>\n",
       "      <td>LOCATION</td>\n",
       "    </tr>\n",
       "    <tr>\n",
       "      <th>460</th>\n",
       "      <td>ien.35556027642412</td>\n",
       "      <td>25</td>\n",
       "      <td>evanston</td>\n",
       "      <td>LOCATION</td>\n",
       "    </tr>\n",
       "    <tr>\n",
       "      <th>461</th>\n",
       "      <td>ien.35556027642412</td>\n",
       "      <td>25</td>\n",
       "      <td>chicago</td>\n",
       "      <td>LOCATION</td>\n",
       "    </tr>\n",
       "    <tr>\n",
       "      <th>465</th>\n",
       "      <td>ien.35556027642412</td>\n",
       "      <td>25</td>\n",
       "      <td>chicago</td>\n",
       "      <td>LOCATION</td>\n",
       "    </tr>\n",
       "    <tr>\n",
       "      <th>466</th>\n",
       "      <td>ien.35556027642412</td>\n",
       "      <td>25</td>\n",
       "      <td>indiana</td>\n",
       "      <td>LOCATION</td>\n",
       "    </tr>\n",
       "  </tbody>\n",
       "</table>\n",
       "<p>100 rows × 4 columns</p>\n",
       "</div>"
      ],
      "text/plain": [
       "                 vol_id  page_seq             entity      type\n",
       "0    ien.35556027642412         2  evanston illinois  LOCATION\n",
       "2    ien.35556027642412         7       northwestern  LOCATION\n",
       "7    ien.35556027642412         7        lake forest  LOCATION\n",
       "14   ien.35556027642412         7      lake michigan  LOCATION\n",
       "26   ien.35556027642412         8           virginia  LOCATION\n",
       "..                  ...       ...                ...       ...\n",
       "457  ien.35556027642412        25           evanston  LOCATION\n",
       "460  ien.35556027642412        25           evanston  LOCATION\n",
       "461  ien.35556027642412        25            chicago  LOCATION\n",
       "465  ien.35556027642412        25            chicago  LOCATION\n",
       "466  ien.35556027642412        25            indiana  LOCATION\n",
       "\n",
       "[100 rows x 4 columns]"
      ]
     },
     "execution_count": 4,
     "metadata": {},
     "output_type": "execute_result"
    }
   ],
   "source": [
    "#This limits the dataframe to just displaying locations \n",
    "df2 = df[df['type'].str.match('LOCATION')]\n",
    "#I only want to see the top 100 locations, so this limits the result to the top 100 rows.\n",
    "df2.head(100)"
   ]
  },
  {
   "cell_type": "code",
   "execution_count": 5,
   "id": "2699fe87-d244-42a0-aa6b-6f4a3462e497",
   "metadata": {},
   "outputs": [
    {
     "data": {
      "text/plain": [
       "chicago      24427\n",
       "evanston     14830\n",
       "illinois      9794\n",
       "new york      4344\n",
       "michigan      3404\n",
       "             ...  \n",
       "dallas         355\n",
       "phoenix        349\n",
       "russia         347\n",
       "mexico         334\n",
       "san diego      331\n",
       "Name: entity, Length: 100, dtype: int64"
      ]
     },
     "execution_count": 5,
     "metadata": {},
     "output_type": "execute_result"
    }
   ],
   "source": [
    "df3 = df2['entity']\n",
    "#This counts the number of times each location is mentioned and sorts in descending order.\n",
    "df4 = df3.value_counts().head(100)\n",
    "df4"
   ]
  },
  {
   "cell_type": "code",
   "execution_count": null,
   "id": "815a221b-560d-4a22-8087-8e5419cc532c",
   "metadata": {},
   "outputs": [],
   "source": [
    "#Finally, in order to work with the data in Google Sheets it needs to be a csv\n",
    "df4.to_csv('./data/top-100-locations.csv')"
   ]
  },
  {
   "cell_type": "markdown",
   "id": "c045c894-952a-43ea-a696-7880d14cac29",
   "metadata": {},
   "source": [
    "I cleaned up the names of the locations in OpenRefine (HIGHLY recommend learning more about OpenRefine!). Once I did that, I added the cleaned up chart to Google Sheets. There is a built in mapping tool in Sheets, so all I had to do was insert a chart > map. Now, the top 100 locations mentioned in the Alumni magazine are mapped. The more a location is mentioned, the larger the size of the dot. "
   ]
  },
  {
   "cell_type": "markdown",
   "id": "42657dd6-4b38-4bc8-a8d2-60093c565ecc",
   "metadata": {},
   "source": [
    "![locations mentioned in the collection](./img/map.png)"
   ]
  },
  {
   "cell_type": "markdown",
   "id": "6c7868ae-244f-4128-9ed0-038fcd7dde99",
   "metadata": {},
   "source": [
    "## Where to go from here"
   ]
  },
  {
   "cell_type": "markdown",
   "id": "e94fea89-f095-45b1-93cd-3e35a4ebcdbb",
   "metadata": {},
   "source": [
    "### Practice using HathiTrust Research Center and other out-of-the-box text analysis tools"
   ]
  },
  {
   "cell_type": "markdown",
   "id": "ff223ca1-ac3b-4863-979f-86ad6eb92267",
   "metadata": {},
   "source": [
    "In addition to HTRC:\n",
    "- Constellate https://constellate.org/ \n",
    "- Voyant https://voyant-tools.org/"
   ]
  },
  {
   "cell_type": "markdown",
   "id": "915f2fff-8076-43de-be3a-5b34cb17709e",
   "metadata": {},
   "source": [
    "### Build skills in R or Python"
   ]
  },
  {
   "cell_type": "markdown",
   "id": "f3705265-172e-4e0f-8c5c-ed2a4739a74a",
   "metadata": {},
   "source": [
    "The NU statistics department has a page with resources. It includes help in deciding between R and Python.\n",
    "https://statistics.northwestern.edu/undergraduate/r_python_resources.html"
   ]
  },
  {
   "cell_type": "code",
   "execution_count": null,
   "id": "e480ea66-9efc-41ee-973f-6bfee1f6c79d",
   "metadata": {},
   "outputs": [],
   "source": []
  }
 ],
 "metadata": {
  "kernelspec": {
   "display_name": "Python 3 (ipykernel)",
   "language": "python",
   "name": "python3"
  },
  "language_info": {
   "codemirror_mode": {
    "name": "ipython",
    "version": 3
   },
   "file_extension": ".py",
   "mimetype": "text/x-python",
   "name": "python",
   "nbconvert_exporter": "python",
   "pygments_lexer": "ipython3",
   "version": "3.12.2"
  }
 },
 "nbformat": 4,
 "nbformat_minor": 5
}
