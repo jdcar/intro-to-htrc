{
 "cells": [
  {
   "cell_type": "markdown",
   "id": "7e9b61c3-d25b-4a8e-90fc-a5c863d72d13",
   "metadata": {},
   "source": [
    "<img align=\"left\" width=\"200\" src=\"./img/northwestern.png\">"
   ]
  },
  {
   "cell_type": "markdown",
   "id": "6fc52ee3",
   "metadata": {},
   "source": [
    "# 3. Create a workset in the HTRC"
   ]
  },
  {
   "cell_type": "markdown",
   "id": "893356ee",
   "metadata": {},
   "source": [
    "https://analytics.hathitrust.org/ "
   ]
  },
  {
   "cell_type": "markdown",
   "id": "c79ed1ad",
   "metadata": {},
   "source": [
    "Users have available all public worksets in the HTRC. There are also recommended worksets created by the HTRC. However, your research will likely require a collection curated for your scholarship. In the last section we went over creating a collection in HathiTrust. This section will explain how to make that a workset in the HTRC."
   ]
  },
  {
   "cell_type": "markdown",
   "id": "fa4f6d64-46c7-4333-85c6-943c6873154a",
   "metadata": {},
   "source": [
    "## Options for creating a workset"
   ]
  },
  {
   "cell_type": "markdown",
   "id": "e5ed69c5-fd2f-456f-a278-36256420ed58",
   "metadata": {},
   "source": [
    "There are three options for creating a workset. This session will use the \"Import from HathiTrust\" option."
   ]
  },
  {
   "cell_type": "markdown",
   "id": "d40c9077-3015-4818-8f5a-bb45d0025adf",
   "metadata": {},
   "source": [
    "![create a workset](./img/create-workset.JPG)"
   ]
  },
  {
   "cell_type": "markdown",
   "id": "c0d18940-f724-49ec-ba08-e5544e4b05e0",
   "metadata": {},
   "source": [
    "### 1. Find the Collection URL"
   ]
  },
  {
   "cell_type": "markdown",
   "id": "5cac6453-65c7-4b6a-b0f3-c240a7cb4908",
   "metadata": {},
   "source": [
    "In the HTDL, select collections at the top of the page"
   ]
  },
  {
   "cell_type": "markdown",
   "id": "7767942a-1553-4fff-aea8-861fdfe04e43",
   "metadata": {},
   "source": [
    "<img src=\"./img/collections.png\" alt=\"drawing\" width=\"30%\"/>"
   ]
  },
  {
   "cell_type": "markdown",
   "id": "2a1a7c1c-ccae-4204-b66f-211c92dab7b8",
   "metadata": {},
   "source": [
    "### 2. Open the collection"
   ]
  },
  {
   "cell_type": "markdown",
   "id": "87916c89-0dfc-4ae6-aa61-455ea27733d5",
   "metadata": {},
   "source": [
    "Select the collection you want to add to the HTRC. "
   ]
  },
  {
   "cell_type": "markdown",
   "id": "2a2e5009-4988-415d-a32e-025e71a4f694",
   "metadata": {},
   "source": [
    "### 3. Copy the collection URL "
   ]
  },
  {
   "cell_type": "markdown",
   "id": "0e344504-e960-4757-a5ea-a2b7e75f557a",
   "metadata": {},
   "source": [
    "Copy the text from \"Link to this collection.\" The collection has to be public!"
   ]
  },
  {
   "cell_type": "markdown",
   "id": "3222612b-a612-4107-9d23-2b84a8eeddf9",
   "metadata": {},
   "source": [
    "![collection url](./img/collection-url.png)"
   ]
  },
  {
   "cell_type": "markdown",
   "id": "966bacd2-90d4-4cc0-b9f1-9196ea494731",
   "metadata": {},
   "source": [
    "### 4. Import the workset"
   ]
  },
  {
   "cell_type": "markdown",
   "id": "829f67ee-f6d7-42d7-931e-a366eef8bae6",
   "metadata": {},
   "source": [
    "In HTRC, create a workset and select \"Import a workset from HathiTrust\""
   ]
  },
  {
   "cell_type": "markdown",
   "id": "3c5d8d59-5b9e-4abb-9637-aa45e21958f8",
   "metadata": {},
   "source": [
    "Paste the collection URL in the \"HathiTrust Collection URL\" box. Then, Fetch Collection. Add a name and a Description. You have the option to make the set public or private."
   ]
  },
  {
   "cell_type": "markdown",
   "id": "038025d7-a126-4b93-af13-73324e292ec9",
   "metadata": {},
   "source": [
    "![create workset](./img/create-a-workset.png)"
   ]
  },
  {
   "cell_type": "markdown",
   "id": "be08a0a2-0763-4439-9bce-9352214c4a69",
   "metadata": {},
   "source": [
    "### 5. View the workset"
   ]
  },
  {
   "cell_type": "markdown",
   "id": "8fe0ec5d-d80c-4191-9729-b3b00d671afa",
   "metadata": {},
   "source": [
    "The workset should now be in the HTRC!"
   ]
  },
  {
   "cell_type": "markdown",
   "id": "c85ddebb-8feb-499b-a5f9-dbe167ef07cb",
   "metadata": {},
   "source": [
    "![view the workset](./img/view-worksets.png)"
   ]
  },
  {
   "cell_type": "markdown",
   "id": "67b73ec9-ce66-4bda-aba0-3dfa10b7d8b1",
   "metadata": {},
   "source": [
    "## Other resources"
   ]
  },
  {
   "cell_type": "markdown",
   "id": "03e64c31-53e6-4ff2-8171-0001b7aca3a0",
   "metadata": {},
   "source": [
    "For a video guide see the HathiTrust YouTube channel on creating worksets: https://youtu.be/Vq6E9u67GnM?t=475"
   ]
  },
  {
   "cell_type": "code",
   "execution_count": null,
   "id": "79d83f19-25e7-48c5-9d97-2310a0ed4c3e",
   "metadata": {},
   "outputs": [],
   "source": []
  }
 ],
 "metadata": {
  "kernelspec": {
   "display_name": "Python 3 (ipykernel)",
   "language": "python",
   "name": "python3"
  },
  "language_info": {
   "codemirror_mode": {
    "name": "ipython",
    "version": 3
   },
   "file_extension": ".py",
   "mimetype": "text/x-python",
   "name": "python",
   "nbconvert_exporter": "python",
   "pygments_lexer": "ipython3",
   "version": "3.12.2"
  }
 },
 "nbformat": 4,
 "nbformat_minor": 5
}
