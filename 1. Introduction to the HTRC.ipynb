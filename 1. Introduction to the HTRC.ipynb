{
 "cells": [
  {
   "cell_type": "markdown",
   "id": "32e431fc-098a-4629-809f-e47165dd2c5e",
   "metadata": {},
   "source": [
    "<img align=\"left\" width=\"200\" src=\"./img/northwestern.png\">"
   ]
  },
  {
   "cell_type": "markdown",
   "id": "3b782a8d",
   "metadata": {},
   "source": [
    "# Introduction to Text Analysis with the HathiTrust Research Center"
   ]
  },
  {
   "cell_type": "markdown",
   "id": "a0ae0095-d8ab-4c92-bccc-d057bc43c6cd",
   "metadata": {},
   "source": [
    "Jamie Carlstone, Authority Metadata Librarian, Metadata Services\n",
    "- jamie.carlstone@northwestern.edu\n",
    "- 847.491.3487\n",
    "- https://orcid.org/0000-0002-9288-328X\n",
    "- bio: I joined Northwestern Libraries in Fall 2019. Prior to Northwestern, I worked at the University of Chicago and the University of Illinois. In April 2021, I earned a coding bootcamp certificate from the NU School of Professional Studies. "
   ]
  },
  {
   "cell_type": "markdown",
   "id": "01729399-f157-4c16-8eed-b70774afbfaf",
   "metadata": {},
   "source": [
    "### What is Text Analysis?\n",
    "Text analysis (also called Text mining) is the use of large datasets of text to do pattern analysis.  While the analysis of patterns in text is not new, more recent technologies make the processing of large datasets easier. The HathiTrust Research Center (HTRC) allows users to do textual analysis on collections in the HathiTrust Digital Library (HTDL). I hope by the end of the session, you will know where to start if you are interested in learning how to do textual analysis with HTRC.\n",
    "\n",
    "### How do scholars use text analysis?\n",
    "Text analysis can be used to:\n",
    "\n",
    "- Show trends\n",
    "- Create visualizations\n",
    "- Tell stories about data\n",
    "- Discover new things about texts"
   ]
  },
  {
   "cell_type": "markdown",
   "id": "02c3ab58",
   "metadata": {},
   "source": [
    "Goals of the workshop:\n",
    "<ol>\n",
    "    <li>Understand the relationship between the HTDL and the HTRC</li>\n",
    "    <li>Create a collection in HTDL</li>\n",
    "    <li>Add this collection to HTRC as a dataset</li>\n",
    "    <li>How to run two of the built-in HTRC algorithms on the dataset</li>\n",
    "    <li>Next steps for using HTRC for advanced text analysis</li>\n",
    "        \n",
    "</ol>"
   ]
  },
  {
   "cell_type": "markdown",
   "id": "9a8ba96b",
   "metadata": {},
   "source": [
    "## HathiTrust Digital Library and the HathiTrust Research Center"
   ]
  },
  {
   "cell_type": "markdown",
   "id": "9f0cb7ae",
   "metadata": {},
   "source": [
    "The HTDL is for downloading and reading books in the HathiTrust collection. The HTRC is for doing computational analysis on collections in the HTDL. In order to use the HTRC, you need to login to both the HTRC and the HTDL. "
   ]
  },
  {
   "cell_type": "markdown",
   "id": "fecfd5ac",
   "metadata": {},
   "source": [
    "HTDL: The HathiTrust Digital Library (https://www.hathitrust.org/) where you can read, create collections, and download books online. Login to HTDL with your Northwestern netid and password to receive institutional access. Instructions available: https://libguides.northwestern.edu/hathi  <p><img src=\"./img/htdl.png\" alt=\"hathi trust digital library\" width=\"300\"></p>"
   ]
  },
  {
   "cell_type": "markdown",
   "id": "2cf60794-a430-4e45-9dcb-1ccd6a096868",
   "metadata": {},
   "source": [
    "HTRC: The HathiTrust Research Center (https://analytics.hathitrust.org/) where you can do computational analysis of the works in the HathiTrust Digital Library. Account setup for the HTRC: https://analytics.hathitrust.org/signuppage   <p><img src=\"./img/htrc.png\" alt=\"hathi trust research center\" width=\"300\"></p>"
   ]
  },
  {
   "cell_type": "markdown",
   "id": "5ee4e40c",
   "metadata": {},
   "source": [
    "How is this possible with copyright restrictions? Here is what [HTRC](https://analytics.hathitrust.org/about#reltoht) says: \"HTRC operates under a non-consumptive research paradigm: HTRC makes available the collection for computational analysis, while remaining clearly within the bounds of the fair use rights courts have recognized as applying to text analysis. The Center is committed to breaking new ground in the areas of non-consumptive text mining, allowing scholars to fully utilize content of the HathiTrust Library.\""
   ]
  },
  {
   "cell_type": "markdown",
   "id": "4983a910-2269-45e2-a3f3-b69e02427076",
   "metadata": {},
   "source": [
    "## Resources"
   ]
  },
  {
   "cell_type": "markdown",
   "id": "68f39e38-7003-4714-90f0-87e33fa889f0",
   "metadata": {},
   "source": [
    "For more help see the HTRC wiki (https://wiki.htrc.illinois.edu/)"
   ]
  },
  {
   "cell_type": "markdown",
   "id": "a52b6ce8-febc-4941-b47e-8fdfa7d3efef",
   "metadata": {},
   "source": [
    "There are all kinds of research projects that can be done in the HTRC and with text mining. For a few ideas: https://www.hathitrust.org/htrc_scwaredACS_awards"
   ]
  }
 ],
 "metadata": {
  "kernelspec": {
   "display_name": "Python 3 (ipykernel)",
   "language": "python",
   "name": "python3"
  },
  "language_info": {
   "codemirror_mode": {
    "name": "ipython",
    "version": 3
   },
   "file_extension": ".py",
   "mimetype": "text/x-python",
   "name": "python",
   "nbconvert_exporter": "python",
   "pygments_lexer": "ipython3",
   "version": "3.10.3"
  }
 },
 "nbformat": 4,
 "nbformat_minor": 5
}
