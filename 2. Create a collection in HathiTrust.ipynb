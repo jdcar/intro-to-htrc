{
 "cells": [
  {
   "cell_type": "markdown",
   "id": "73486632",
   "metadata": {},
   "source": [
    "<img align=\"left\" width=\"200\" src=\"./img/northwestern.png\">"
   ]
  },
  {
   "cell_type": "markdown",
   "id": "1babbeba-0b31-442e-a48e-604d5dde2849",
   "metadata": {},
   "source": [
    "# 2.  Create a collection in HathiTrust"
   ]
  },
  {
   "cell_type": "markdown",
   "id": "f9b40f63",
   "metadata": {},
   "source": [
    "https://www.hathitrust.org/help_digital_library#CBBuild "
   ]
  },
  {
   "cell_type": "markdown",
   "id": "1bc81398",
   "metadata": {},
   "source": [
    "There are two ways to build a collection in HathiTrust: the full-text search results or full-text view of a book. There are also publically available worksets available that were created by other users, so it is not necessary to create your own workset to start using the HTRC. There are seven recommended worksets created by HTRC https://analytics.hathitrust.org/staticrecommendedworksets. "
   ]
  },
  {
   "cell_type": "markdown",
   "id": "def96779-c82b-446d-aa68-92852b4c7831",
   "metadata": {},
   "source": [
    "My collection is the entire run of the Northwestern University alumni news/The alumni journal. It ran from 1914 to 1969. There are only 40 items in the collection. If you are following along, creating a small collection will help the algorithms run quickly."
   ]
  },
  {
   "cell_type": "markdown",
   "id": "4b07ac44",
   "metadata": {},
   "source": [
    "## Add from full-text search result"
   ]
  },
  {
   "cell_type": "markdown",
   "id": "c1f5b60e",
   "metadata": {},
   "source": [
    "Go to: https://www.hathitrust.org/"
   ]
  },
  {
   "cell_type": "markdown",
   "id": "5bb2b740",
   "metadata": {},
   "source": [
    "Search for items using the \"Full-text\" search option at the top of the page. Select items either using \"Select all on page\" or the checkbox next to the individual item. Choose the collection or create a new collection. Select \"Add\" to add the items to the collection."
   ]
  },
  {
   "cell_type": "markdown",
   "id": "a6ef3bb5",
   "metadata": {},
   "source": [
    "![create a collection](./img/collection.png)"
   ]
  },
  {
   "cell_type": "markdown",
   "id": "7b08c937",
   "metadata": {},
   "source": [
    "## Add from full-text view of book"
   ]
  },
  {
   "cell_type": "markdown",
   "id": "6ce66543",
   "metadata": {},
   "source": [
    "Open an item in HathiTrust. Example: https://babel.hathitrust.org/cgi/pt?id=ien.35556027642594&view=1up&seq=2"
   ]
  },
  {
   "cell_type": "markdown",
   "id": "36a88d5e",
   "metadata": {},
   "source": [
    "Open a full-text book in HathiTrust. Expand the \"Collections\" menu on the left hand side of the page. Select \"Add\" to add the item to the chosen collection."
   ]
  },
  {
   "cell_type": "markdown",
   "id": "3f242189",
   "metadata": {},
   "source": [
    "![create a collection](./img/collection-2.png)"
   ]
  },
  {
   "cell_type": "markdown",
   "id": "6d09489d",
   "metadata": {},
   "source": []
  },
  {
   "cell_type": "markdown",
   "id": "bf921756",
   "metadata": {},
   "source": [
    "## Start analyzing"
   ]
  },
  {
   "cell_type": "markdown",
   "id": "a2b764df",
   "metadata": {},
   "source": [
    "Once the collection is created in the Digital Library it can be added as a workset in the HTRC. "
   ]
  },
  {
   "cell_type": "markdown",
   "id": "1cf18cb1-69ca-4cdd-a9f2-72a725c73b17",
   "metadata": {},
   "source": [
    "## Other resources"
   ]
  },
  {
   "cell_type": "markdown",
   "id": "64eec665-be66-47fd-a60d-11848c321bfe",
   "metadata": {},
   "source": [
    "For a video guide see the HathiTrust youtube channel on creating a collection https://www.youtube.com/watch?v=EfBiKLmEXaE"
   ]
  },
  {
   "cell_type": "code",
   "execution_count": null,
   "id": "f081fe69",
   "metadata": {},
   "outputs": [],
   "source": []
  }
 ],
 "metadata": {
  "kernelspec": {
   "display_name": "Python 3 (ipykernel)",
   "language": "python",
   "name": "python3"
  },
  "language_info": {
   "codemirror_mode": {
    "name": "ipython",
    "version": 3
   },
   "file_extension": ".py",
   "mimetype": "text/x-python",
   "name": "python",
   "nbconvert_exporter": "python",
   "pygments_lexer": "ipython3",
   "version": "3.12.2"
  }
 },
 "nbformat": 4,
 "nbformat_minor": 5
}
